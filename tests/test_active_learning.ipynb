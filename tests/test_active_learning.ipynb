{
 "cells": [
  {
   "attachments": {},
   "cell_type": "markdown",
   "metadata": {},
   "source": [
    "Test Active Learning"
   ]
  },
  {
   "cell_type": "code",
   "execution_count": null,
   "metadata": {},
   "outputs": [],
   "source": [
    "import logging\n",
    "\n",
    "\n",
    "logging.basicConfig(filename='example.log', filemode='w', encoding='utf-8', level=logging.INFO)"
   ]
  },
  {
   "cell_type": "code",
   "execution_count": null,
   "metadata": {},
   "outputs": [],
   "source": [
    "from datasets import load_dataset\n",
    "\n",
    "\n",
    "cons_dataset = load_dataset(\"json\", data_files=\"../notebooks/data/dataset.jsonl\")\n",
    "cons_dataset = cons_dataset[\"train\"].train_test_split()\n",
    "cons_dataset[\"train\"]"
   ]
  },
  {
   "cell_type": "code",
   "execution_count": null,
   "metadata": {},
   "outputs": [],
   "source": [
    "from SciBertClassifier import SciBertClassifier\n",
    "\n",
    "\n",
    "classifier = SciBertClassifier(3, \"drug\", ['O', 'B-drug', 'I-drug'])\n",
    "labeled_dataset = cons_dataset.map(classifier.generate_row_labels)\n",
    "labeled_dataset"
   ]
  },
  {
   "cell_type": "code",
   "execution_count": null,
   "metadata": {},
   "outputs": [],
   "source": [
    "\n",
    "classifier.fit(labeled_dataset)\n",
    "classifier.save()"
   ]
  },
  {
   "cell_type": "code",
   "execution_count": null,
   "metadata": {},
   "outputs": [],
   "source": [
    "from TextFile import TextFile\n",
    "\n",
    "\n",
    "text_file = TextFile(\"36476732.txt\", \"..\\\\doc\")\n",
    "test_text = text_file.read()"
   ]
  },
  {
   "cell_type": "code",
   "execution_count": null,
   "metadata": {},
   "outputs": [],
   "source": [
    "from ActiveLearning import ActiveLearning\n",
    "\n",
    "classifier.load()\n",
    "learner = ActiveLearning()\n",
    "learner.iteration(classifier, [test_text], 3)"
   ]
  },
  {
   "cell_type": "code",
   "execution_count": null,
   "metadata": {},
   "outputs": [],
   "source": [
    "test_data = load_dataset(\"json\", data_files=\"../notebooks/data/ade_corpus_dataset.jsonl\")\n",
    "test_data[\"train\"][\"text\"][-50:]\n",
    "for data in test_data[\"train\"][\"text\"][-50:]:\n",
    "    print(data)"
   ]
  }
 ],
 "metadata": {
  "kernelspec": {
   "display_name": ".env",
   "language": "python",
   "name": "python3"
  },
  "language_info": {
   "codemirror_mode": {
    "name": "ipython",
    "version": 3
   },
   "file_extension": ".py",
   "mimetype": "text/x-python",
   "name": "python",
   "nbconvert_exporter": "python",
   "pygments_lexer": "ipython3",
   "version": "3.11.3"
  },
  "orig_nbformat": 4
 },
 "nbformat": 4,
 "nbformat_minor": 2
}
