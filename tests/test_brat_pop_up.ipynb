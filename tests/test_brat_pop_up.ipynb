{
 "cells": [
  {
   "cell_type": "code",
   "execution_count": 67,
   "metadata": {},
   "outputs": [],
   "source": [
    "from tkinter import *\n",
    "import tkinter.messagebox\n",
    "\n",
    "\n",
    "def show_custom_popup(titel, message):\n",
    "    popup = Tk()\n",
    "    popup.title(titel)\n",
    "    popup.eval('tk::PlaceWindow . center')\n",
    "    popup.geometry(\"300x120\")\n",
    "    label = tkinter.Label(popup, text=message, padx=20, pady=20, anchor=\"w\")\n",
    "    label.pack()\n",
    "\n",
    "    ok_button = tkinter.Button(popup, text=\"OK\", command=popup.destroy, width=20)\n",
    "    ok_button.pack(pady=10)\n",
    "\n",
    "    popup.mainloop()"
   ]
  },
  {
   "cell_type": "code",
   "execution_count": 69,
   "metadata": {},
   "outputs": [],
   "source": [
    "title = \"Suggestions loaded\"\n",
    "message = \"Suggestions has been loaded.\\nYou can now start annotating.\"\n",
    "show_custom_popup(title, message)"
   ]
  },
  {
   "cell_type": "code",
   "execution_count": 30,
   "metadata": {},
   "outputs": [
    {
     "ename": "ModuleNotFoundError",
     "evalue": "No module named 'tkMessageBox'",
     "output_type": "error",
     "traceback": [
      "\u001b[1;31m---------------------------------------------------------------------------\u001b[0m",
      "\u001b[1;31mModuleNotFoundError\u001b[0m                       Traceback (most recent call last)",
      "Cell \u001b[1;32mIn[30], line 2\u001b[0m\n\u001b[0;32m      1\u001b[0m \u001b[39mfrom\u001b[39;00m \u001b[39mtkinter\u001b[39;00m \u001b[39mimport\u001b[39;00m \u001b[39m*\u001b[39m\n\u001b[1;32m----> 2\u001b[0m \u001b[39mimport\u001b[39;00m \u001b[39mtkMessageBox\u001b[39;00m\n\u001b[0;32m      5\u001b[0m root \u001b[39m=\u001b[39m Tk()\u001b[39m.\u001b[39mwithdraw()  \u001b[39m# hiding the main window\u001b[39;00m\n\u001b[0;32m      6\u001b[0m var \u001b[39m=\u001b[39m tkMessageBox\u001b[39m.\u001b[39maskyesno(\u001b[39m\"\u001b[39m\u001b[39mTitle\u001b[39m\u001b[39m\"\u001b[39m, \u001b[39m\"\u001b[39m\u001b[39mYour question goes here?\u001b[39m\u001b[39m\"\u001b[39m)\n",
      "\u001b[1;31mModuleNotFoundError\u001b[0m: No module named 'tkMessageBox'"
     ]
    }
   ],
   "source": []
  }
 ],
 "metadata": {
  "kernelspec": {
   "display_name": ".env",
   "language": "python",
   "name": "python3"
  },
  "language_info": {
   "codemirror_mode": {
    "name": "ipython",
    "version": 3
   },
   "file_extension": ".py",
   "mimetype": "text/x-python",
   "name": "python",
   "nbconvert_exporter": "python",
   "pygments_lexer": "ipython3",
   "version": "3.11.3"
  },
  "orig_nbformat": 4
 },
 "nbformat": 4,
 "nbformat_minor": 2
}
