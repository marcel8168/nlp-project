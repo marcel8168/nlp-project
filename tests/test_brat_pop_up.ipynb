{
 "cells": [
  {
   "cell_type": "code",
   "execution_count": 13,
   "metadata": {},
   "outputs": [],
   "source": [
    "from tkinter import *\n",
    "import tkinter.messagebox\n",
    "\n",
    "\n",
    "def show_custom_popup(titel, message):\n",
    "    popup = Tk()\n",
    "    popup.title(title)\n",
    "    popup.eval('tk::PlaceWindow . center')\n",
    "\n",
    "    # Calculate the size based on the text length\n",
    "    text_length = len(message)\n",
    "    width = min(400, 20 * text_length)\n",
    "    height = min(200, 30 * (text_length // 50 + 1)) + 50\n",
    "\n",
    "    popup.geometry(f\"{width}x{height}\")\n",
    "    label = tkinter.Label(popup, text=message, padx=20, pady=20, anchor=\"nw\")\n",
    "    label.pack()\n",
    "\n",
    "    ok_button_frame = tkinter.Frame(popup)\n",
    "    ok_button_frame.pack(pady=10)\n",
    "    ok_button = tkinter.Button(ok_button_frame, text=\"OK\", command=popup.destroy, width=20)\n",
    "    ok_button.pack()\n",
    "\n",
    "    popup.mainloop()"
   ]
  },
  {
   "cell_type": "code",
   "execution_count": 14,
   "metadata": {},
   "outputs": [],
   "source": [
    "title = \"Suggestions loaded\"\n",
    "message = \"You finished the current annotation step.\\nNow the next training iteration began.\\nPlease do not change any file until the next call.\"\n",
    "show_custom_popup(title, message)"
   ]
  },
  {
   "cell_type": "code",
   "execution_count": null,
   "metadata": {},
   "outputs": [],
   "source": []
  }
 ],
 "metadata": {
  "kernelspec": {
   "display_name": ".env",
   "language": "python",
   "name": "python3"
  },
  "language_info": {
   "codemirror_mode": {
    "name": "ipython",
    "version": 3
   },
   "file_extension": ".py",
   "mimetype": "text/x-python",
   "name": "python",
   "nbconvert_exporter": "python",
   "pygments_lexer": "ipython3",
   "version": "3.11.3"
  },
  "orig_nbformat": 4
 },
 "nbformat": 4,
 "nbformat_minor": 2
}
